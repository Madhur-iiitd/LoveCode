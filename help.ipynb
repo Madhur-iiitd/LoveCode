{
 "cells": [
  {
   "cell_type": "code",
   "execution_count": 10,
   "metadata": {},
   "outputs": [
    {
     "name": "stdout",
     "output_type": "stream",
     "text": [
      "Random data generated and saved to 'random_data.csv'.\n",
      "Target Data Point (inverse transformed):\n",
      "     who_are_you    looking_for  relationship_type      self_description  \\\n",
      "0  straight_male  straight_male  Something Serious  Somewhere in Between   \n",
      "\n",
      "       preference music_preference relationship_values deal_breakers  \n",
      "0  Morning Person             Rock      Mutual respect       Smoking  \n",
      "\n",
      "Nearest neighbors with the same 'who_are_you' as the 'looking_for' of the target:\n",
      "       who_are_you    looking_for  relationship_type      self_description  \\\n",
      "0    straight_male  straight_male  Something Serious  Somewhere in Between   \n",
      "730  straight_male  straight_male  Something Serious             Introvert   \n",
      "226  straight_male  straight_male   Something Casual  Somewhere in Between   \n",
      "591  straight_male  straight_male  Something Serious  Somewhere in Between   \n",
      "160  straight_male  straight_male  Something Serious  Somewhere in Between   \n",
      "\n",
      "         preference    music_preference relationship_values deal_breakers  \n",
      "0    Morning Person                Rock      Mutual respect       Smoking  \n",
      "730  Morning Person                Rock      Mutual respect       Smoking  \n",
      "226  Morning Person  Romantic Bollywood      Mutual respect       Smoking  \n",
      "591  Morning Person  Romantic Bollywood        Independence       Smoking  \n",
      "160       Night Owl  Romantic Bollywood      Mutual respect       Smoking  \n"
     ]
    },
    {
     "name": "stderr",
     "output_type": "stream",
     "text": [
      "c:\\Users\\Madhur Gupta\\AppData\\Local\\Programs\\Python\\Python39\\lib\\site-packages\\sklearn\\base.py:464: UserWarning: X does not have valid feature names, but NearestNeighbors was fitted with feature names\n",
      "  warnings.warn(\n"
     ]
    }
   ],
   "source": [
    "\n",
    "import pandas as pd\n",
    "import random\n",
    "from sklearn.preprocessing import LabelEncoder\n",
    "from sklearn.neighbors import NearestNeighbors\n",
    "\n",
    "def generate_data(columns, options, num_rows):\n",
    "    data = {}\n",
    "    for column in columns:\n",
    "        if column == [\"relationship_values\",\"deal_breakers\"]:\n",
    "            data[column] = [', '.join(random.sample(options[column], random.randint(1, len(options[column])))) for _ in range(num_rows)]\n",
    "        else:\n",
    "            weights = options.get(column + \"_weights\", None)\n",
    "            data[column] = random.choices(options[column], weights=weights, k=num_rows)\n",
    "    df = pd.DataFrame(data)\n",
    "    return df\n",
    "\n",
    "columns = [\"who_are_you\", \"looking_for\", \"relationship_type\", \"self_description\", \"preference\", \"music_preference\", \"relationship_values\", \"deal_breakers\"]\n",
    "options = {\n",
    "    \"who_are_you\": [\"straight_male\", \"straight_female\", \"lesbian\", \"gay\", \"bisexual\", \"transgender\", \"queer\"],\n",
    "    \"who_are_you_weights\": [0.75, 0.20, 0.01, 0.01, 0.01, 0.01, 0.01],  \n",
    "    \"looking_for\": [\"straight_male\", \"straight_female\", \"lesbian\", \"gay\", \"bisexual\", \"transgender\", \"queer\"],\n",
    "    \"looking_for_weights\": [0.48, 0.47, 0.01, 0.01, 0.01, 0.01, 0.01],  \n",
    "    \"relationship_type\": [\"Something Casual\", \"Something Serious\"],\n",
    "    \"relationship_type_weights\": [0.4, 0.6],  \n",
    "    \"self_description\": [\"Extrovert\", \"Introvert\", \"Somewhere in Between\"],\n",
    "    \"self_description_weights\": [0.2, 0.2, 0.6],  \n",
    "    \"preference\": [\"Morning Person\", \"Night Owl\"],\n",
    "    \"preference_weights\": [0.25, 0.75], \n",
    "    \"music_preference\": [\"Pop\", \"Rock\", \"Classical\", \"Romantic Bollywood\", \"Hollywood Rizz Songs\", \"Country\"],\n",
    "    \"music_preference_weights\": [0.15, 0.15, 0.1, 0.2, 0.1, 0.1],  \n",
    "    \"relationship_values\": [\"Trust and honesty\", \"Communication\", \"Mutual respect\", \"Shared interests\", \"Independence\", \"Emotional support\"],\n",
    "    \"deal_breakers\": [\"Smoking\", \"Drinking\", \"Political views\", \"Religious views\"], \n",
    "}\n",
    "num_rows = 1000\n",
    "\n",
    "df = generate_data(columns, options, num_rows)\n",
    "df.to_csv(\"random_data.csv\", index=False)\n",
    "\n",
    "print(\"Random data generated and saved to 'random_data.csv'.\")\n",
    "\n",
    "le_dict = {}\n",
    "for column in df.columns:\n",
    "    le = LabelEncoder()\n",
    "    df[column] = le.fit_transform(df[column])\n",
    "    le_dict[column] = le\n",
    "\n",
    "knn = NearestNeighbors(n_neighbors=10)\n",
    "knn.fit(df)\n",
    "\n",
    "distances, indices = knn.kneighbors([df.iloc[0]])\n",
    "\n",
    "df_inverse = df.copy()\n",
    "for column in df_inverse.columns:\n",
    "    df_inverse[column] = le_dict[column].inverse_transform(df_inverse[column])\n",
    "\n",
    "print(\"Nearest neighbors of the first data point (inverse transformed):\")\n",
    "print(df_inverse.iloc[indices[0]])"
   ]
  }
 ],
 "metadata": {
  "kernelspec": {
   "display_name": "Python 3",
   "language": "python",
   "name": "python3"
  },
  "language_info": {
   "codemirror_mode": {
    "name": "ipython",
    "version": 3
   },
   "file_extension": ".py",
   "mimetype": "text/x-python",
   "name": "python",
   "nbconvert_exporter": "python",
   "pygments_lexer": "ipython3",
   "version": "3.9.0"
  }
 },
 "nbformat": 4,
 "nbformat_minor": 2
}
